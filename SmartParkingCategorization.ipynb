{
  "nbformat": 4,
  "nbformat_minor": 0,
  "metadata": {
    "colab": {
      "provenance": [],
      "include_colab_link": true
    },
    "kernelspec": {
      "name": "python3",
      "display_name": "Python 3"
    },
    "language_info": {
      "name": "python"
    }
  },
  "cells": [
    {
      "cell_type": "markdown",
      "metadata": {
        "id": "view-in-github",
        "colab_type": "text"
      },
      "source": [
        "<a href=\"https://colab.research.google.com/github/Sri0035/Smart-Parking-System/blob/main/SmartParkingCategorization.ipynb\" target=\"_parent\"><img src=\"https://colab.research.google.com/assets/colab-badge.svg\" alt=\"Open In Colab\"/></a>"
      ]
    },
    {
      "cell_type": "code",
      "source": [
        "pip install pandas scikit-learn"
      ],
      "metadata": {
        "colab": {
          "base_uri": "https://localhost:8080/"
        },
        "id": "iMxK83RUAOnG",
        "outputId": "689a0881-2bb4-49c4-97cc-05c9f007a34a"
      },
      "execution_count": null,
      "outputs": [
        {
          "output_type": "stream",
          "name": "stdout",
          "text": [
            "Requirement already satisfied: pandas in /usr/local/lib/python3.10/dist-packages (2.2.2)\n",
            "Requirement already satisfied: scikit-learn in /usr/local/lib/python3.10/dist-packages (1.5.2)\n",
            "Requirement already satisfied: numpy>=1.22.4 in /usr/local/lib/python3.10/dist-packages (from pandas) (1.26.4)\n",
            "Requirement already satisfied: python-dateutil>=2.8.2 in /usr/local/lib/python3.10/dist-packages (from pandas) (2.8.2)\n",
            "Requirement already satisfied: pytz>=2020.1 in /usr/local/lib/python3.10/dist-packages (from pandas) (2024.2)\n",
            "Requirement already satisfied: tzdata>=2022.7 in /usr/local/lib/python3.10/dist-packages (from pandas) (2024.2)\n",
            "Requirement already satisfied: scipy>=1.6.0 in /usr/local/lib/python3.10/dist-packages (from scikit-learn) (1.13.1)\n",
            "Requirement already satisfied: joblib>=1.2.0 in /usr/local/lib/python3.10/dist-packages (from scikit-learn) (1.4.2)\n",
            "Requirement already satisfied: threadpoolctl>=3.1.0 in /usr/local/lib/python3.10/dist-packages (from scikit-learn) (3.5.0)\n",
            "Requirement already satisfied: six>=1.5 in /usr/local/lib/python3.10/dist-packages (from python-dateutil>=2.8.2->pandas) (1.16.0)\n"
          ]
        }
      ]
    },
    {
      "cell_type": "code",
      "source": [
        "import pandas as pd\n",
        "from sklearn.model_selection import train_test_split\n",
        "from sklearn.preprocessing import LabelEncoder\n",
        "from sklearn.neighbors import KNeighborsClassifier\n",
        "from sklearn.metrics import accuracy_score, classification_report\n",
        "from sklearn.preprocessing import StandardScaler\n",
        "\n",
        "def preprocess_data(file_path):\n",
        "    try:\n",
        "        # Load the CSV data\n",
        "        df = pd.read_csv(file_path)\n",
        "\n",
        "        # Check if 'price' and 'number_plate' columns exist\n",
        "        if 'price' not in df.columns or 'number_plate' not in df.columns:\n",
        "            raise ValueError(\"The dataset must contain 'price' and 'number_plate' columns.\")\n",
        "\n",
        "        # Optional: Use additional features like 'year' if available\n",
        "        features = ['price']\n",
        "        if 'year' in df.columns:\n",
        "            features.append('year')\n",
        "\n",
        "        # Encode the 'number_plate' into numerical values\n",
        "        label_encoder = LabelEncoder()\n",
        "        df['number_plate_encoded'] = label_encoder.fit_transform(df['number_plate'])\n",
        "        features.append('number_plate_encoded')\n",
        "\n",
        "        # Define the feature set X and the target set y\n",
        "        X = df[features]\n",
        "        y = categorize_by_price_or_model(df)\n",
        "\n",
        "        return X, y\n",
        "\n",
        "    except FileNotFoundError:\n",
        "        print(f\"Error: File {file_path} not found.\")\n",
        "        return None, None\n",
        "    except Exception as e:\n",
        "        print(f\"An error occurred: {e}\")\n",
        "        return None, None\n",
        "\n",
        "def categorize_by_price_or_model(df):\n",
        "    # Categorize each car based on price\n",
        "    conditions = [\n",
        "        (df['price'] >= 50000),              # High End if price >= 50,000 USD\n",
        "        (df['price'] >= 20000) & (df['price'] < 50000),  # Medium End if 20,000 <= price < 50,000\n",
        "        (df['price'] < 20000)                # Low End if price < 20,000 USD\n",
        "    ]\n",
        "    categories = ['Low End', 'Medium End', 'High End']\n",
        "    return pd.cut(df['price'], bins=[0, 20000, 50000, float('inf')], labels=categories)\n",
        "\n",
        "def train_knn_model(X, y):\n",
        "    try:\n",
        "        # Split the data into training and testing sets (80% train, 20% test)\n",
        "        X_train, X_test, y_train, y_test = train_test_split(X, y, test_size=0.2, random_state=42)\n",
        "\n",
        "        # Standardize the features for better performance\n",
        "        scaler = StandardScaler()\n",
        "        X_train_scaled = scaler.fit_transform(X_train)\n",
        "        X_test_scaled = scaler.transform(X_test)\n",
        "\n",
        "        # Train KNN classifier\n",
        "        knn = KNeighborsClassifier(n_neighbors=5)  # K=5\n",
        "        knn.fit(X_train_scaled, y_train)\n",
        "\n",
        "        # Predict and evaluate the model\n",
        "        y_pred = knn.predict(X_test_scaled)\n",
        "        accuracy = accuracy_score(y_test, y_pred)\n",
        "        print(f\"Model Accuracy: {accuracy * 100:.2f}%\")\n",
        "        print(\"\\nClassification Report:\")\n",
        "        print(classification_report(y_test, y_pred))\n",
        "\n",
        "        return knn, scaler\n",
        "\n",
        "    except Exception as e:\n",
        "        print(f\"An error occurred during model training: {e}\")\n",
        "        return None, None\n",
        "\n",
        "def categorize_new_data(file_path, knn_model, scaler):\n",
        "    try:\n",
        "        # Load the dataset for prediction\n",
        "        X, _ = preprocess_data(file_path)\n",
        "\n",
        "        # Standardize the features\n",
        "        X_scaled = scaler.transform(X)\n",
        "\n",
        "        # Predict categories using the trained model\n",
        "        predictions = knn_model.predict(X_scaled)\n",
        "        X['Predicted_Category'] = predictions\n",
        "\n",
        "        # Display results\n",
        "        print(\"\\nCategorized Vehicles:\")\n",
        "        print(X[['price', 'number_plate_encoded', 'Predicted_Category']])\n",
        "\n",
        "        # Save results to a new CSV file\n",
        "        X.to_csv('categorized_vehicles_knn_with_number_plates.csv', index=False)\n",
        "        print(\"\\nResults saved to 'categorized_vehicles_knn_with_number_plates.csv'.\")\n",
        "\n",
        "    except Exception as e:\n",
        "        print(f\"An error occurred during prediction: {e}\")\n",
        "\n",
        "# Main program\n",
        "if __name__ == \"__main__\":\n",
        "    file_path = input(\"Enter the path to your vehicle dataset CSV file (e.g., 'vehicles.csv'): \")\n",
        "\n",
        "    # Preprocess data\n",
        "    X, y = preprocess_data(file_path)\n",
        "    if X is not None and y is not None:\n",
        "        # Train the KNN model\n",
        "        knn_model, scaler = train_knn_model(X, y)\n",
        "\n",
        "        # Predict categories for new data\n",
        "        if knn_model is not None and scaler is not None:\n",
        "            categorize_new_data(file_path, knn_model, scaler)\n",
        "\n"
      ],
      "metadata": {
        "colab": {
          "base_uri": "https://localhost:8080/"
        },
        "id": "EJPUmBkKAVlG",
        "outputId": "55609c56-79b1-4e60-e09f-3144c1d737cb"
      },
      "execution_count": null,
      "outputs": [
        {
          "output_type": "stream",
          "name": "stdout",
          "text": [
            "Enter the path to your vehicle dataset CSV file (e.g., 'vehicles.csv'): /content/synthetic_vehicle_data_with_number_plates (1).csv\n",
            "Model Accuracy: 95.00%\n",
            "\n",
            "Classification Report:\n",
            "              precision    recall  f1-score   support\n",
            "\n",
            "    High End       0.98      1.00      0.99        57\n",
            "     Low End       0.91      0.97      0.94        72\n",
            "  Medium End       0.97      0.89      0.93        71\n",
            "\n",
            "    accuracy                           0.95       200\n",
            "   macro avg       0.95      0.95      0.95       200\n",
            "weighted avg       0.95      0.95      0.95       200\n",
            "\n",
            "\n",
            "Categorized Vehicles:\n",
            "     price  number_plate_encoded Predicted_Category\n",
            "0     5409                   240            Low End\n",
            "1    16087                   471            Low End\n",
            "2    62280                   279           High End\n",
            "3    16731                   817            Low End\n",
            "4    18261                   212            Low End\n",
            "..     ...                   ...                ...\n",
            "995  43737                   487         Medium End\n",
            "996  94294                   898           High End\n",
            "997  40552                   638         Medium End\n",
            "998  21835                   632         Medium End\n",
            "999   5306                   585            Low End\n",
            "\n",
            "[1000 rows x 3 columns]\n",
            "\n",
            "Results saved to 'categorized_vehicles_knn_with_number_plates.csv'.\n"
          ]
        }
      ]
    }
  ]
}